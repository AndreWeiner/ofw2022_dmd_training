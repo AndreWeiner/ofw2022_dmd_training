{
 "cells": [
  {
   "cell_type": "markdown",
   "id": "crude-reaction",
   "metadata": {},
   "source": [
    "# Preliminary flow analysis\n",
    "\n",
    "- analysis of mean and standard deviation\n",
    "- analysis of probes\n",
    "  - selecting probe locations\n",
    "  - reading probe data in Python\n",
    "  - frequency analysis"
   ]
  },
  {
   "cell_type": "code",
   "execution_count": null,
   "id": "monthly-central",
   "metadata": {},
   "outputs": [],
   "source": []
  }
 ],
 "metadata": {
  "kernelspec": {
   "display_name": "Python 3",
   "language": "python",
   "name": "python3"
  },
  "language_info": {
   "codemirror_mode": {
    "name": "ipython",
    "version": 3
   },
   "file_extension": ".py",
   "mimetype": "text/x-python",
   "name": "python",
   "nbconvert_exporter": "python",
   "pygments_lexer": "ipython3",
   "version": "3.8.10"
  }
 },
 "nbformat": 4,
 "nbformat_minor": 5
}
